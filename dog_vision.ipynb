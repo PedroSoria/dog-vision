{
  "cells": [
    {
      "cell_type": "markdown",
      "metadata": {
        "id": "view-in-github",
        "colab_type": "text"
      },
      "source": [
        "<a href=\"https://colab.research.google.com/github/PedroSoria/dog-vision/blob/main/dog_vision.ipynb\" target=\"_parent\"><img src=\"https://colab.research.google.com/assets/colab-badge.svg\" alt=\"Open In Colab\"/></a>"
      ]
    },
    {
      "cell_type": "code",
      "execution_count": null,
      "metadata": {
        "id": "jM49l14zkMb9"
      },
      "outputs": [],
      "source": [
        "import numpy as np\n",
        "import pandas as pd\n",
        "import tensorflow as tf\n",
        "import tensorflow_hub as hub\n",
        "from IPython.display import Image\n",
        "import os\n",
        "from sklearn.model_selection import train_test_split\n",
        "from matplotlib.pyplot import imread"
      ]
    },
    {
      "cell_type": "code",
      "execution_count": null,
      "metadata": {
        "colab": {
          "background_save": true
        },
        "id": "vrIhWAzVkLXO",
        "outputId": "c311051c-d969-49fa-b591-acbb8543bcd4"
      },
      "outputs": [
        {
          "name": "stdout",
          "output_type": "stream",
          "text": [
            "2.15.0\n",
            "0.16.1\n",
            "[PhysicalDevice(name='/physical_device:CPU:0', device_type='CPU')]\n"
          ]
        }
      ],
      "source": [
        "print(tf.__version__)\n",
        "print(hub.__version__)\n",
        "physical_devices = tf.config.list_physical_devices()\n",
        "print(physical_devices)"
      ]
    },
    {
      "cell_type": "code",
      "execution_count": null,
      "metadata": {
        "colab": {
          "background_save": true
        },
        "id": "UcJJt0DqkN9X",
        "outputId": "d185cd12-ba23-4b86-d3b0-f69d2c446e91"
      },
      "outputs": [
        {
          "name": "stdout",
          "output_type": "stream",
          "text": [
            "Archive:  drive/MyDrive/[006] Datasets/[001] \\dog-breed-identification/dog-breed-identification.zip\n",
            "replace drive/MyDrive/labels.csv? [y]es, [n]o, [A]ll, [N]one, [r]ename: "
          ]
        }
      ],
      "source": [
        "# !unzip \"drive/MyDrive/[006] Datasets/[001] \\dog-breed-identification/dog-breed-identification.zip\" -d\"drive/MyDrive/\""
      ]
    },
    {
      "cell_type": "code",
      "execution_count": null,
      "metadata": {
        "colab": {
          "background_save": true
        },
        "id": "DNuep8nfkPcn"
      },
      "outputs": [],
      "source": [
        "lables_csv = pd.read_csv(\"drive/MyDrive/labels.csv\")\n",
        "filename = [\"data/train/\" + fname for fname in lables_csv.id + \".jpg\"]\n",
        "len(filename)\n",
        "lables = lables_csv.breed.to_numpy()\n",
        "lables\n",
        "unique_breeds = np.unique(lables)\n",
        "boolean_lables = [lable == unique_breeds for lable in lables]\n",
        "len(unique_breeds)\n",
        "X = filename\n",
        "y = boolean_lables"
      ]
    },
    {
      "cell_type": "code",
      "execution_count": null,
      "metadata": {
        "colab": {
          "background_save": true
        },
        "id": "wePvJXL5nIVH"
      },
      "outputs": [],
      "source": [
        "NUM_IMAGE = 1000\n",
        "IMAGE_SIZE = 224\n",
        "BATCH_SIZE = 32"
      ]
    },
    {
      "cell_type": "code",
      "execution_count": null,
      "metadata": {
        "colab": {
          "background_save": true
        },
        "id": "b3U-6KMLkUhn"
      },
      "outputs": [],
      "source": [
        "from sklearn.model_selection import train_test_split\n",
        "\n",
        "X_train, x_val, y_train, y_val = train_test_split(X[:NUM_IMAGE],\n",
        "                                                   y[:NUM_IMAGE],\n",
        "                                                   test_size=0.2,\n",
        "                                                   random_state=42)"
      ]
    },
    {
      "cell_type": "code",
      "execution_count": null,
      "metadata": {
        "colab": {
          "background_save": true
        },
        "id": "FKvWu_iImmef"
      },
      "outputs": [],
      "source": [
        "# Define Image Size\n",
        "def procces_image(image_path):\n",
        "    \"\"\"_summary_\n",
        "\n",
        "    Args:\n",
        "        image_path (_type_): _description_\n",
        "    \"\"\"\n",
        "    # read in an image file\n",
        "    image = tf.io.read_file(image_path)\n",
        "    # Turn the image into numerical Tensor with 3 coulor channels (read, green, blue)\n",
        "    image = tf.image.decode_jpeg(image, channels=3)\n",
        "    # Convert the colour channel values from 0-255 to 1-1 values\n",
        "    image = tf.image.convert_image_dtype(image, tf.float32)\n",
        "    # Rezice image to (224, 224)\n",
        "    image = tf.image.resize(image, size=[IMAGE_SIZE, IMAGE_SIZE])\n",
        "\n",
        "    return image"
      ]
    },
    {
      "cell_type": "code",
      "execution_count": null,
      "metadata": {
        "colab": {
          "background_save": true
        },
        "id": "sdOrUeR3mpdX"
      },
      "outputs": [],
      "source": [
        "def get_image_lable(image_path, lable):\n",
        "    \"\"\"_summary_\n",
        "\n",
        "    Args:\n",
        "        image_path (_type_): _description_\n",
        "        lable (_type_): _description_\n",
        "    \"\"\"\n",
        "    image = procces_image(image_path)\n",
        "\n",
        "    return image, lable"
      ]
    },
    {
      "cell_type": "code",
      "execution_count": null,
      "metadata": {
        "colab": {
          "background_save": true
        },
        "id": "EjSp8VkqmLgF"
      },
      "outputs": [],
      "source": [
        "def create_data_batches(X,\n",
        "                        y=None,\n",
        "                        buffer_size=BATCH_SIZE,\n",
        "                        valid_data=False,\n",
        "                        test_data=False):\n",
        "    \"\"\"_summary_\n",
        "\n",
        "    Args:\n",
        "        X (_type_): _description_\n",
        "        y (_type_, optional): _description_. Defaults to None.\n",
        "        batch_size (_type_, optional): _description_. Defaults to BATCH_SIZE.\n",
        "        valid_data (bool, optional): _description_. Defaults to False.\n",
        "        test_data (bool, optional): _description_. Defaults to False.\n",
        "    \"\"\"\n",
        "    if test_data:\n",
        "        print(\"creating test dasta batches...\")\n",
        "        data = tf.data.Dataset.from_tensor_slices((tf.constant(X)))\n",
        "        data_batch = data.map(procces_image).batch(BATCH_SIZE)\n",
        "\n",
        "        return data_batch\n",
        "\n",
        "    elif valid_data:\n",
        "        print(\"creating validation dasta batches...\")\n",
        "        data = tf.data.Dataset.from_tensor_slices((tf.constant(X),\n",
        "                                                   tf.constant(y)))\n",
        "        data_batch = data.map(get_image_lable).batch(BATCH_SIZE)\n",
        "\n",
        "        return data_batch\n",
        "\n",
        "    else:\n",
        "        print(\"creating training data batches...\")\n",
        "        data = tf.data.Dataset.from_tensor_slices((tf.constant(X),\n",
        "                                                   tf.constant(y)))\n",
        "        data = data.shuffle(buffer_size=len(X))\n",
        "        data = data.map(get_image_lable)\n",
        "        data_batch = data.batch(BATCH_SIZE)\n",
        "\n",
        "        return data_batch"
      ]
    },
    {
      "cell_type": "code",
      "execution_count": null,
      "metadata": {
        "colab": {
          "background_save": true
        },
        "id": "fcAgYzOemRGg",
        "outputId": "010259c0-af50-4599-ec27-43f39d307e6c"
      },
      "outputs": [
        {
          "name": "stdout",
          "output_type": "stream",
          "text": [
            "creating training data batches...\n",
            "creating validation dasta batches...\n"
          ]
        }
      ],
      "source": [
        "train_data = create_data_batches(X_train, y_train)\n",
        "val_data = create_data_batches(x_val, y_val, valid_data=True)"
      ]
    },
    {
      "cell_type": "code",
      "execution_count": null,
      "metadata": {
        "colab": {
          "background_save": true
        },
        "id": "omad38-9go4x"
      },
      "outputs": [],
      "source": [
        "# Setup shape to the model\n",
        "INPUT_SHAPE = [None, IMAGE_SIZE, IMAGE_SIZE, 3] # batc, heigth, width , coulor channer\n",
        "\n",
        "# Setup output of model\n",
        "OUTPT_SHAPE = len(unique_breeds)\n",
        "\n",
        "MODEL_URL = \"https://tfhub.dev/google/imagenet/mobilenet_v2_130_224/classification/4\""
      ]
    },
    {
      "cell_type": "code",
      "execution_count": null,
      "metadata": {
        "colab": {
          "background_save": true
        },
        "id": "lBLwiMUPlJHH"
      },
      "outputs": [],
      "source": [
        "def create_model(input_shape=INPUT_SHAPE,\n",
        "                 output_shape=OUTPT_SHAPE,\n",
        "                 model_url=MODEL_URL):\n",
        "\n",
        "    # Setup model layers\n",
        "    model = tf.keras.Sequential([\n",
        "        hub.KerasLayer(MODEL_URL),\n",
        "        tf.keras.layers.Dense(units=OUTPT_SHAPE,\n",
        "                              activation=\"softmax\")\n",
        "    ])\n",
        "\n",
        "    model.compile(\n",
        "        loss=tf.keras.losses.CategoricalCrossentropy(),\n",
        "        optimizer=tf.keras.optimizers.Adam(),\n",
        "        metrics=[\"accuracy\"]\n",
        "    )\n",
        "\n",
        "    model.build(INPUT_SHAPE)\n",
        "\n",
        "    return model"
      ]
    },
    {
      "cell_type": "code",
      "execution_count": null,
      "metadata": {
        "id": "S75kF_PAmIDt"
      },
      "outputs": [],
      "source": [
        "model = create_model()\n",
        "model.summary()"
      ]
    },
    {
      "cell_type": "code",
      "execution_count": null,
      "metadata": {
        "id": "ygUqJdthmw67"
      },
      "outputs": [],
      "source": [
        "# Creatin Callbacks\n",
        "%load_ext tensorboard\n",
        "import datetime\n",
        "\n",
        "def create_tensorboard_callback ():\n",
        "  logdir = os.path.join(\"drive/MyDrive/\",\n",
        "                        datetime.datetime.now().strftime(\"%Y%m%d-%H%M%S\"))\n",
        "  return tf.keras.Callbacks.TensorBoard(logdir)"
      ]
    }
  ],
  "metadata": {
    "colab": {
      "provenance": [],
      "mount_file_id": "1ehZbb2mbgIIttLKikhT_PH9pfrxOygTo",
      "authorship_tag": "ABX9TyM6f83cBCBFpSfMLM+ioq3G",
      "include_colab_link": true
    },
    "kernelspec": {
      "display_name": "Python 3",
      "name": "python3"
    },
    "language_info": {
      "name": "python"
    }
  },
  "nbformat": 4,
  "nbformat_minor": 0
}